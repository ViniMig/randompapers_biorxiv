{
 "cells": [
  {
   "cell_type": "markdown",
   "metadata": {},
   "source": [
    "This is an adaptation of Random Papers code from McGill Space Institute. This was changed to do a similar job but using the Biorxiv repository. Original code referenced bellow and here: https://github.com/andrewcumming/randompapers\n",
    "The output is a local html file with the 5 selected random papers of the week, containing: Author, date, doi, title.\n",
    "Additionally for each time the code is executed a new html is created and the previous renamed with the date."
   ]
  },
  {
   "cell_type": "code",
   "execution_count": 15,
   "metadata": {},
   "outputs": [],
   "source": [
    "import requests\n",
    "import numpy as np\n",
    "from datetime import date\n",
    "from datetime import timedelta\n",
    "import os\n",
    "import time\n",
    "import glob\n",
    "from IPython.display import HTML\n",
    "\n",
    "api_key=''\n",
    "www_dir = './'"
   ]
  },
  {
   "cell_type": "code",
   "execution_count": 16,
   "metadata": {},
   "outputs": [
    {
     "name": "stdout",
     "output_type": "stream",
     "text": [
      "Response:  200\n"
     ]
    },
    {
     "data": {
      "text/html": [
       "<html>\n",
       "  <head>\n",
       "\t<meta name=\"viewport\" content=\"width/device-width\" charset=\"utf-8\">\n",
       "  \t<title>Random Papers</title>\n",
       "\t<link rel=\"stylesheet\" href=\"style.css\">\n",
       "  </head>\n",
       "  <body>\n",
       "  <div class=\"heading\">\n",
       "  <h1>Random Papers</h1>\n",
       "  </div>\n",
       "  <div class=\"container\"><h4>This week's papers</h4><h4>Category: biophysics </h4>Zeng et al. , 2021-04-26, doi: 10.1101/2020.07.06.190082, title: <a href=https://www.biorxiv.org/content/10.1101/2020.07.06.190082v2>Conserved heterodimeric GTPase Rbg1/Tma46 promotes efficient translation in eukaryotic cells</a><br></font></p><h4>Category: neuroscience </h4>Hedouin et al. , 2021-04-26, doi: 10.1101/2020.06.23.127258, title: <a href=https://www.biorxiv.org/content/10.1101/2020.06.23.127258v2>Decoding the microstructural properties of white matter using realistic models</a><br></font></p><h4>Category: genomics </h4>Dutrow et al. , 2021-04-21, doi: 10.1101/2019.12.11.873075, title: <a href=https://www.biorxiv.org/content/10.1101/2019.12.11.873075v2>Modeling uniquely human gene regulatory function in humanized mice</a><br></font></p><h4>Category: microbiology </h4>Schofield et al. , 2021-04-21, doi: 10.1101/2020.08.17.253617, title: <a href=https://www.biorxiv.org/content/10.1101/2020.08.17.253617v4>The anti-sigma factor MucA is required for viability in Pseudomonas aeruginosa</a><br></font></p><h4>Category: biochemistry </h4>Papaioannou et al. , 2021-04-21, doi: 10.1101/2020.03.02.972950, title: <a href=https://www.biorxiv.org/content/10.1101/2020.03.02.972950v4>Stress-induced tyrosine phosphorylation of RtcB modulates IRE1 activity and signaling outputs.</a><br></font></p><br><p>Selected on Tuesday, 27 April 2021 from a total of 100 papers published last month in Biorxiv</p><h4>This uses an adaptation of the code used for Random Papers, please refer to the code at the bottom</h4><h3>About Random Papers</h3><p style=\"font-size:18px;font-style:italic;\">We meet every second Monday at noon at the <a href=\"http://msi.mcgill.ca/\">McGill Space Institute</a> to discuss 5 random astrophysics papers.</p>\n",
       "<p style=\"font-size:18px;font-style:italic;\">The goal of Random Papers is to gain a broad view of current astrophysics research. For each meeting, we run a script to choose 5 random papers published in the last month in refereed astrophysics journals. This gives a different slice of the literature than the typical astro-ph discussion, with papers from outside our own research areas or those that might not otherwise be chosen for discussion.</p>\n",
       "<p style=\"font-size:18px;font-style:italic;\">Rather than reading each paper in depth, the goal is to focus on the big picture, with questions such as: How would we summarize the paper in a few sentences? What are the key figures in the paper? What analysis methods are used? Why is this paper being written, and Why now?\n",
       "</p>\n",
       "<p><br>\n",
       "Image credit: <a href=\"https://www.nasa.gov/image-feature/celestial-fireworks\">NASA/HST</a><br>\n",
       "Code: <a href=\"https://github.com/andrewcumming/randompapers\">GitHub</a><br>\n",
       "<a href=\"feed.xml\">RSS</a>\n",
       "</p></div></body></html>"
      ],
      "text/plain": [
       "<IPython.core.display.HTML object>"
      ]
     },
     "execution_count": 16,
     "metadata": {},
     "output_type": "execute_result"
    }
   ],
   "source": [
    "# Rename the index.html file using its creation date\n",
    "try:\n",
    "\tprevious_fname = time.strftime(\"%Y_%m_%d.html\",time.localtime(os.path.getmtime(www_dir+'index.html')))\n",
    "\tos.rename(www_dir+'index.html',www_dir+previous_fname)\n",
    "except:\n",
    "\tpass\n",
    "\n",
    "# Open a new index.html file and write the header\n",
    "fp = open(www_dir+\"index.html\",\"w\")\n",
    "\n",
    "fp.write('''<html>\n",
    "  <head>\n",
    "\t<meta name=\"viewport\" content=\"width/device-width\" charset=\"utf-8\">\n",
    "  \t<title>Random Papers</title>\n",
    "\t<link rel=\"stylesheet\" href=\"style.css\">\n",
    "  </head>\n",
    "  <body>\n",
    "  <div class=\"heading\">\n",
    "  <h1>Random Papers</h1>\n",
    "  </div>\n",
    "  <div class=\"container\">''')\n",
    "\n",
    "fp.write(\"<h4>This week's papers</h4>\")\n",
    "\n",
    "# Work out the month and year to search\n",
    "today = date.today()\n",
    "lastweek = today - timedelta(days=7)\n",
    "\n",
    "# make the request\n",
    "r=requests.get('https://api.biorxiv.org/details/biorxiv/'+ lastweek.strftime(\"%Y-%m-%d\") +'/'+ today.strftime(\"%Y-%m-%d\"))\n",
    "print('Response: ', r.status_code)\n",
    "out = r.json()\n",
    "# choose random numbers\n",
    "num_papers=out[\"messages\"][0][\"count\"]\n",
    "choice = np.random.choice(num_papers,5,replace=False)\n",
    "#print(\"num_papers, choice=\",num_papers,choice)\n",
    "\n",
    "# print out the info about the chosen papers\n",
    "docs = out[\"collection\"]\n",
    "choice_count = 1\n",
    "for i in choice:\n",
    "\tdoc = docs[i]\n",
    "\tfp.write(\"<h4>Category: \"+str(doc[\"category\"])+\" </h4>\")\n",
    "\tauthors = list(doc[\"authors\"].split(\";\"))\n",
    "    \n",
    "\tnum_authors = len(authors)\n",
    "\tname = str(authors[0])\n",
    "\tfp.write(name.split(',')[0])\n",
    "\tif num_authors > 2:\n",
    "\t\tfp.write(' et al. ')\n",
    "\tif num_authors == 2:\n",
    "\t\tname2 = str(authors[1])\n",
    "\t\tfp.write(' &amp; ' + name2.split(',')[0])\n",
    "\tfp.write(', '+str(doc[\"date\"]))\n",
    "\tfp.write(\", doi: \"+str(doc[\"doi\"]))\n",
    "\tfp.write(\", title: <a href=https://www.biorxiv.org/content/\"+str(doc[\"doi\"])+\"v\"+str(doc[\"version\"])+\">\"+str(doc[\"title\"])+\"</a><br>\")    \n",
    "\tfp.write('</font></p>')\n",
    "\t\n",
    "\tnamestring=''\n",
    "\tfor name in authors:\n",
    "\t\tnamestring = namestring + name + ', '\n",
    "\tchoice_count+=1\n",
    "\n",
    "# summary information\n",
    "fp.write(\"<br><p>Selected on %s, %d %s from a total of %d papers published last month in Biorxiv</p>\" % (today.strftime(\"%A\"),today.day,today.strftime(\"%B %Y\"),num_papers))\n",
    "\n",
    "# make a list of previous random papers\n",
    "# fp.write(\"<h4>Previous random papers</h4>\")\n",
    "\n",
    "# file_list = glob.glob(www_dir+'*.html')\n",
    "# file_list = [os.path.basename(file) for file in file_list]\n",
    "# file_list.sort(reverse=True)\n",
    "# for fname in file_list:\n",
    "# \tif fname!='index.html':\n",
    "# \t\tfp.write('<a href=\"'+fname+'\">'+fname.replace(\"_\",\".\")[:-5]+'</a> ')\n",
    "\n",
    "# About\n",
    "fp.write(\"<h4>This uses an adaptation of the code used for Random Papers, please refer to the code at the bottom</h4>\")\n",
    "fp.write(\"<h3>About Random Papers</h3>\")\n",
    "fp.write('''<p style=\"font-size:18px;font-style:italic;\">We meet every second Monday at noon at the <a href=\"http://msi.mcgill.ca/\">McGill Space Institute</a> to discuss 5 random astrophysics papers.</p>\n",
    "<p style=\"font-size:18px;font-style:italic;\">The goal of Random Papers is to gain a broad view of current astrophysics research. For each meeting, we run a script to choose 5 random papers published in the last month in refereed astrophysics journals. This gives a different slice of the literature than the typical astro-ph discussion, with papers from outside our own research areas or those that might not otherwise be chosen for discussion.</p>\n",
    "<p style=\"font-size:18px;font-style:italic;\">Rather than reading each paper in depth, the goal is to focus on the big picture, with questions such as: How would we summarize the paper in a few sentences? What are the key figures in the paper? What analysis methods are used? Why is this paper being written, and Why now?\n",
    "</p>\n",
    "''')\n",
    "\n",
    "fp.write('''<p><br>\n",
    "Image credit: <a href=\"https://www.nasa.gov/image-feature/celestial-fireworks\">NASA/HST</a><br>\n",
    "Code: <a href=\"https://github.com/andrewcumming/randompapers\">GitHub</a><br>\n",
    "<a href=\"feed.xml\">RSS</a>\n",
    "</p>''')\n",
    "fp.write(\"</div></body></html>\")\n",
    "\n",
    "fp.close()\n",
    "\n",
    "HTML(fp.name)"
   ]
  },
  {
   "cell_type": "code",
   "execution_count": null,
   "metadata": {},
   "outputs": [],
   "source": []
  },
  {
   "cell_type": "code",
   "execution_count": null,
   "metadata": {},
   "outputs": [],
   "source": []
  }
 ],
 "metadata": {
  "kernelspec": {
   "display_name": "Python 3",
   "language": "python",
   "name": "python3"
  },
  "language_info": {
   "codemirror_mode": {
    "name": "ipython",
    "version": 3
   },
   "file_extension": ".py",
   "mimetype": "text/x-python",
   "name": "python",
   "nbconvert_exporter": "python",
   "pygments_lexer": "ipython3",
   "version": "3.8.8"
  }
 },
 "nbformat": 4,
 "nbformat_minor": 4
}
